{
  "nbformat": 4,
  "nbformat_minor": 0,
  "metadata": {
    "colab": {
      "provenance": [],
      "authorship_tag": "ABX9TyPOkiAK8xHYoCln/TplOas7",
      "include_colab_link": true
    },
    "kernelspec": {
      "name": "python3",
      "display_name": "Python 3"
    },
    "language_info": {
      "name": "python"
    }
  },
  "cells": [
    {
      "cell_type": "markdown",
      "metadata": {
        "id": "view-in-github",
        "colab_type": "text"
      },
      "source": [
        "<a href=\"https://colab.research.google.com/github/MuskanJam/BharatIntern/blob/main/StockPrediction.ipynb\" target=\"_parent\"><img src=\"https://colab.research.google.com/assets/colab-badge.svg\" alt=\"Open In Colab\"/></a>"
      ]
    },
    {
      "cell_type": "code",
      "source": [
        "import numpy as np\n",
        "import pandas as pd\n",
        "import matplotlib.pyplot as plt\n",
        "import yfinance as yf\n",
        "from sklearn.preprocessing import MinMaxScaler"
      ],
      "metadata": {
        "id": "k1bDi7n7Hunr"
      },
      "execution_count": 6,
      "outputs": []
    },
    {
      "cell_type": "code",
      "source": [
        "# Fetch historical stock price data for TSLA\n",
        "ticker = 'TSLA'\n",
        "data = yf.download(ticker, start='2020-01-01', end='2022-01-01')"
      ],
      "metadata": {
        "colab": {
          "base_uri": "https://localhost:8080/"
        },
        "id": "ujw9XlRJIMqq",
        "outputId": "221f649d-7b11-45e1-ce0d-8d2d2511ec18"
      },
      "execution_count": 5,
      "outputs": [
        {
          "output_type": "stream",
          "name": "stdout",
          "text": [
            "\r[*********************100%%**********************]  1 of 1 completed\n"
          ]
        }
      ]
    },
    {
      "cell_type": "code",
      "source": [
        "# Extract the 'Close' prices\n",
        "data = data[['Close']]\n",
        "\n",
        "# Normalize the data using Min-Max scaling\n",
        "scaler = MinMaxScaler()\n",
        "data['Close'] = scaler.fit_transform(data['Close'].values.reshape(-1, 1))\n",
        "\n",
        "# Convert the data into sequences\n",
        "sequence_length = 10\n",
        "sequences = []\n",
        "for i in range(len(data) - sequence_length):\n",
        "    sequences.append(data['Close'][i:i+sequence_length+1])\n",
        "\n",
        "sequences = np.array(sequences)"
      ],
      "metadata": {
        "colab": {
          "base_uri": "https://localhost:8080/"
        },
        "id": "IWERSCJIIUvy",
        "outputId": "8016a5a4-4be4-48b0-93a9-f9a7364eb6a3"
      },
      "execution_count": 7,
      "outputs": [
        {
          "output_type": "stream",
          "name": "stderr",
          "text": [
            "<ipython-input-7-4d42bb8964c1>:6: SettingWithCopyWarning: \n",
            "A value is trying to be set on a copy of a slice from a DataFrame.\n",
            "Try using .loc[row_indexer,col_indexer] = value instead\n",
            "\n",
            "See the caveats in the documentation: https://pandas.pydata.org/pandas-docs/stable/user_guide/indexing.html#returning-a-view-versus-a-copy\n",
            "  data['Close'] = scaler.fit_transform(data['Close'].values.reshape(-1, 1))\n"
          ]
        }
      ]
    },
    {
      "cell_type": "code",
      "source": [
        "split_ratio = 0.8\n",
        "split_index = int(len(sequences) * split_ratio)\n",
        "\n",
        "train_data = sequences[:split_index]\n",
        "test_data = sequences[split_index:]"
      ],
      "metadata": {
        "id": "g9WdrYQFIYdK"
      },
      "execution_count": 8,
      "outputs": []
    },
    {
      "cell_type": "code",
      "source": [
        "X_train, y_train = train_data[:, :-1], train_data[:, -1]\n",
        "X_test, y_test = test_data[:, :-1], test_data[:, -1]\n",
        "\n",
        "X_train = X_train.reshape(X_train.shape[0], X_train.shape[1], 1)\n",
        "X_test = X_test.reshape(X_test.shape[0], X_test.shape[1], 1)"
      ],
      "metadata": {
        "id": "T7ZULJW0IbpN"
      },
      "execution_count": 10,
      "outputs": []
    },
    {
      "cell_type": "code",
      "source": [
        "model = Sequential()\n",
        "model.add(LSTM(units=50, return_sequences=True, input_shape=(X_train.shape[1], 1)))\n",
        "model.add(LSTM(units=50))\n",
        "model.add(Dense(units=1))\n",
        "\n",
        "model.compile(optimizer='adam', loss='mean_squared_error')"
      ],
      "metadata": {
        "id": "dfBROx4YIgoC"
      },
      "execution_count": 11,
      "outputs": []
    },
    {
      "cell_type": "code",
      "source": [
        "model.fit(X_train, y_train, epochs=10, batch_size=32)"
      ],
      "metadata": {
        "colab": {
          "base_uri": "https://localhost:8080/"
        },
        "id": "HU8AbB-JIj__",
        "outputId": "cc0b41b3-120c-4faf-8d81-a670292a7790"
      },
      "execution_count": 12,
      "outputs": [
        {
          "output_type": "stream",
          "name": "stdout",
          "text": [
            "Epoch 1/10\n",
            "13/13 [==============================] - 5s 14ms/step - loss: 0.0480\n",
            "Epoch 2/10\n",
            "13/13 [==============================] - 0s 13ms/step - loss: 0.0091\n",
            "Epoch 3/10\n",
            "13/13 [==============================] - 0s 12ms/step - loss: 0.0037\n",
            "Epoch 4/10\n",
            "13/13 [==============================] - 0s 12ms/step - loss: 0.0018\n",
            "Epoch 5/10\n",
            "13/13 [==============================] - 0s 12ms/step - loss: 0.0012\n",
            "Epoch 6/10\n",
            "13/13 [==============================] - 0s 13ms/step - loss: 0.0012\n",
            "Epoch 7/10\n",
            "13/13 [==============================] - 0s 14ms/step - loss: 0.0011\n",
            "Epoch 8/10\n",
            "13/13 [==============================] - 0s 13ms/step - loss: 0.0011\n",
            "Epoch 9/10\n",
            "13/13 [==============================] - 0s 12ms/step - loss: 0.0011\n",
            "Epoch 10/10\n",
            "13/13 [==============================] - 0s 12ms/step - loss: 0.0012\n"
          ]
        },
        {
          "output_type": "execute_result",
          "data": {
            "text/plain": [
              "<keras.src.callbacks.History at 0x7a9118e2e290>"
            ]
          },
          "metadata": {},
          "execution_count": 12
        }
      ]
    },
    {
      "cell_type": "code",
      "source": [
        "test_loss = model.evaluate(X_test, y_test)\n",
        "print('Test Loss:', test_loss)"
      ],
      "metadata": {
        "colab": {
          "base_uri": "https://localhost:8080/"
        },
        "id": "VLl5oENOIp1d",
        "outputId": "ddc69c70-d8be-4925-eb11-9f5d6cec28d8"
      },
      "execution_count": 13,
      "outputs": [
        {
          "output_type": "stream",
          "name": "stdout",
          "text": [
            "4/4 [==============================] - 2s 8ms/step - loss: 0.0049\n",
            "Test Loss: 0.004860748071223497\n"
          ]
        }
      ]
    },
    {
      "cell_type": "code",
      "source": [
        "predictions = model.predict(X_test)\n",
        "predictions = scaler.inverse_transform(predictions)"
      ],
      "metadata": {
        "colab": {
          "base_uri": "https://localhost:8080/"
        },
        "id": "cA1t1qUAIvls",
        "outputId": "048e28b0-c7e6-456f-95f1-ded11fd0f6fa"
      },
      "execution_count": 14,
      "outputs": [
        {
          "output_type": "stream",
          "name": "stdout",
          "text": [
            "4/4 [==============================] - 1s 5ms/step\n"
          ]
        }
      ]
    },
    {
      "cell_type": "code",
      "source": [
        "plt.figure(figsize=(12, 6))\n",
        "plt.plot(data.index[split_index+sequence_length:], data['Close'][split_index+sequence_length:], label='True Price')\n",
        "plt.plot(data.index[split_index+sequence_length:], predictions, label='Predicted Price')\n",
        "plt.xlabel('Date')\n",
        "plt.ylabel('Stock Price')\n",
        "plt.legend()\n",
        "plt.show()"
      ],
      "metadata": {
        "colab": {
          "base_uri": "https://localhost:8080/",
          "height": 542
        },
        "id": "DOEu0bxVIzhh",
        "outputId": "5a2d23b5-2b04-411a-9045-abcd520877d7"
      },
      "execution_count": 15,
      "outputs": [
        {
          "output_type": "display_data",
          "data": {
            "text/plain": [
              "<Figure size 1200x600 with 1 Axes>"
            ],
            "image/png": "[encoded data removed]"
          },
          "metadata": {}
        }
      ]
    }
  ]
}